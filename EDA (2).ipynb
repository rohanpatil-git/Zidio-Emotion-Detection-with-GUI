{
  "nbformat": 4,
  "nbformat_minor": 0,
  "metadata": {
    "colab": {
      "provenance": []
    },
    "kernelspec": {
      "name": "python3",
      "display_name": "Python 3"
    },
    "language_info": {
      "name": "python"
    }
  },
  "cells": [
    {
      "cell_type": "code",
      "execution_count": null,
      "metadata": {
        "id": "aLeD4SBls1Nc"
      },
      "outputs": [],
      "source": [
        "import pandas as pd\n",
        "df=pd.read_csv(\"data.csv\")"
      ]
    },
    {
      "cell_type": "code",
      "source": [
        "#Mean Imputation\n",
        "from sklearn.impute import SimpleImputer\n",
        "import numpy as np\n",
        "import pandas as pd\n",
        "\n",
        "data={'Age':[25,30,np.nan,35,40]}\n",
        "df=pd.DataFrame(data)\n",
        "\n",
        "imputer=SimpleImputer(strategy='mean')\n",
        "df['Age']=imputer.fit_transform(df[['Age']])\n",
        "print(df)"
      ],
      "metadata": {
        "colab": {
          "base_uri": "https://localhost:8080/"
        },
        "id": "akW22hYr5zaL",
        "outputId": "3b676d7d-bb88-484d-8920-e254e5d02c91"
      },
      "execution_count": null,
      "outputs": [
        {
          "output_type": "stream",
          "name": "stdout",
          "text": [
            "    Age\n",
            "0  25.0\n",
            "1  30.0\n",
            "2  32.5\n",
            "3  35.0\n",
            "4  40.0\n"
          ]
        }
      ]
    },
    {
      "cell_type": "code",
      "source": [
        "#Median Imputation\n",
        "from sklearn.impute import SimpleImputer\n",
        "import numpy as np\n",
        "import pandas as pd\n",
        "\n",
        "data={'Age':[25,30,np.nan,35,40]}\n",
        "df=pd.DataFrame(data)\n",
        "\n",
        "imputer=SimpleImputer(strategy='median')\n",
        "df['Age']=imputer.fit_transform(df[['Age']])\n",
        "print(df)"
      ],
      "metadata": {
        "colab": {
          "base_uri": "https://localhost:8080/"
        },
        "id": "OeFA5mOl495Z",
        "outputId": "409f3b0f-95fa-4971-d00b-ee805fdd123a"
      },
      "execution_count": null,
      "outputs": [
        {
          "output_type": "stream",
          "name": "stdout",
          "text": [
            "    Age\n",
            "0  25.0\n",
            "1  30.0\n",
            "2  32.5\n",
            "3  35.0\n",
            "4  40.0\n"
          ]
        }
      ]
    },
    {
      "cell_type": "code",
      "source": [
        "#Mode Imputation\n",
        "from sklearn.impute import SimpleImputer\n",
        "import numpy as np\n",
        "import pandas as pd\n",
        "\n",
        "data={'Age':[25,30,np.nan,35,40]}\n",
        "df=pd.DataFrame(data)\n",
        "\n",
        "imputer=SimpleImputer(strategy='most_frequent')\n",
        "df['Age']=imputer.fit_transform(df[['Age']])\n",
        "print(df)"
      ],
      "metadata": {
        "id": "YlljEI9M4-UF"
      },
      "execution_count": null,
      "outputs": []
    },
    {
      "cell_type": "code",
      "source": [
        "#KNN Imputation\n",
        "from sklearn.impute import SimpleImputer\n",
        "import numpy as np\n",
        "import pandas as pd\n",
        "from sklearn.impute import KNNImputer\n",
        "\n",
        "data={'Age':[25,30,np.nan,35,40]}\n",
        "df=pd.DataFrame(data)\n",
        "\n",
        "imputer=KNNImputer(n_neighbors=3)\n",
        "df[['Age']]=imputer.fit_transform(df[['Age']])\n",
        "print(df)"
      ],
      "metadata": {
        "colab": {
          "base_uri": "https://localhost:8080/"
        },
        "id": "yv0-PkeU5QEG",
        "outputId": "f03b4262-d85d-4819-dc84-21a37d28f145"
      },
      "execution_count": null,
      "outputs": [
        {
          "output_type": "stream",
          "name": "stdout",
          "text": [
            "    Age\n",
            "0  25.0\n",
            "1  30.0\n",
            "2  32.5\n",
            "3  35.0\n",
            "4  40.0\n"
          ]
        }
      ]
    },
    {
      "cell_type": "code",
      "source": [
        "df.shape()\n",
        "df.columns()\n",
        "df.info()\n",
        "df.describe()"
      ],
      "metadata": {
        "id": "Q-OkYA6duhRE"
      },
      "execution_count": null,
      "outputs": []
    },
    {
      "cell_type": "code",
      "source": [
        "df.head()\n",
        "df.tail()"
      ],
      "metadata": {
        "id": "hEHK1N4eusog"
      },
      "execution_count": null,
      "outputs": []
    },
    {
      "cell_type": "code",
      "source": [
        "#Check the data types\n",
        "df.dtypes()"
      ],
      "metadata": {
        "id": "P8ZE3ddtuxJh"
      },
      "execution_count": null,
      "outputs": []
    },
    {
      "cell_type": "code",
      "source": [
        "#Handling the missing values\n",
        "df.isnull()"
      ],
      "metadata": {
        "id": "5sYdDL-Iu1ix"
      },
      "execution_count": null,
      "outputs": []
    },
    {
      "cell_type": "code",
      "source": [
        "df.dropna()"
      ],
      "metadata": {
        "id": "WU7JFWGiu-C5"
      },
      "execution_count": null,
      "outputs": []
    },
    {
      "cell_type": "code",
      "source": [
        "df[\"Column_name\"].fillna(df['Column_name'].mean(), inplace=True)\n"
      ],
      "metadata": {
        "id": "U1Glgiv-vBDQ"
      },
      "execution_count": null,
      "outputs": []
    },
    {
      "cell_type": "code",
      "source": [
        "df[\"Column_name\"].fillna(df['Column_name'].mode()[0], inplace=True)"
      ],
      "metadata": {
        "id": "HaQ95z1PvM4B"
      },
      "execution_count": null,
      "outputs": []
    },
    {
      "cell_type": "code",
      "source": [
        "#Handling the duplicates\n",
        "df.duplicated()\n",
        "df.drop_duplicates()"
      ],
      "metadata": {
        "id": "oWeM37RvvUhN"
      },
      "execution_count": null,
      "outputs": []
    },
    {
      "cell_type": "code",
      "source": [
        "#Box Plot and Outlier Detection\n",
        "#Detecting and handling the outliers\n",
        "import seaborn as sns\n",
        "import matplotlib.pyplot as plt\n",
        "sns.boxplot(x=df[\"column_name\"])\n",
        "plt.show()"
      ],
      "metadata": {
        "id": "c5bEuZXnvcB0"
      },
      "execution_count": null,
      "outputs": []
    },
    {
      "cell_type": "code",
      "source": [
        "#Visual Method(Box Plot)\n",
        "import matplotlib.pyplot as plt\n",
        "import seaborn as sns\n",
        "data=[10,12,14,15,100,16,17,18,19,20]\n",
        "#box plot\n",
        "sns.boxplot(data)\n",
        "plt.show()"
      ],
      "metadata": {
        "colab": {
          "base_uri": "https://localhost:8080/",
          "height": 411
        },
        "id": "-JCt6Sik7Fjd",
        "outputId": "8f9a4873-015a-4031-b339-d56e62d42ef9"
      },
      "execution_count": null,
      "outputs": [
        {
          "output_type": "display_data",
          "data": {
            "text/plain": [
              "<Figure size 640x480 with 1 Axes>"
            ],
            "image/png": "[encoded data removed]"
          },
          "metadata": {}
        }
      ]
    },
    {
      "cell_type": "code",
      "source": [
        "Q1=df[\"Value\"].quantile(0.25)\n",
        "Q3=df[\"Value\"].quantile(0.75)\n",
        "IQR=Q3-Q1\n",
        "\n",
        "lower_bound=Q1-1.5*IQR\n",
        "upper_bound=Q3+1.5*IQR\n",
        "\n",
        "#Removing outliers\n",
        "outliers= df[(df[\"Value\"]<lower_bound) | (df[\"Value\"]>upper_bound)]  #Defined the lower bound and the upper bound formulas"
      ],
      "metadata": {
        "id": "qwlJbVVwv69N"
      },
      "execution_count": null,
      "outputs": []
    },
    {
      "cell_type": "code",
      "source": [
        "#Univariate Analysis\n",
        "#For numerical variables\n",
        "sns.histplot(df[\"column_names\"],bins=30, kde=True)\n",
        "plt.show()"
      ],
      "metadata": {
        "id": "5iqoF7G10JRg"
      },
      "execution_count": null,
      "outputs": []
    },
    {
      "cell_type": "code",
      "source": [
        "df.describe()"
      ],
      "metadata": {
        "id": "bO9NkvfI0eOm"
      },
      "execution_count": null,
      "outputs": []
    },
    {
      "cell_type": "code",
      "source": [
        "#For categorical variable\n",
        "sns.countplot(x=df[\"category_columns\"])\n",
        "plt.show()"
      ],
      "metadata": {
        "id": "A7robSGE0i40"
      },
      "execution_count": null,
      "outputs": []
    },
    {
      "cell_type": "code",
      "source": [
        "#Z-score to find the Outliers\n",
        "import numpy as np\n",
        "import pandas as pd\n",
        "from scipy.stats import zscore\n",
        "\n",
        "data=[5,7,8,12,14,18,22,24,27,30,35,40,100]\n",
        "df=pd.DataFrame(data, columns=['Values'])\n",
        "\n",
        "#Calculate the zscore\n",
        "df['Z_Score']=zscore(df['Values'])\n",
        "\n",
        "#Identify outliers (threshold: |z|>3)\n",
        "outliers=df[df['Z_Score'].abs()>3]\n",
        "print(df)\n",
        "print(\"\\nOutliers:\\n\",outliers)"
      ],
      "metadata": {
        "colab": {
          "base_uri": "https://localhost:8080/"
        },
        "id": "_C9vSRKhxxpV",
        "outputId": "a861b212-3dad-43fb-8736-fbd3cbbedd23"
      },
      "execution_count": null,
      "outputs": [
        {
          "output_type": "stream",
          "name": "stdout",
          "text": [
            "    Values   Z_Score\n",
            "0        5 -0.898026\n",
            "1        7 -0.813735\n",
            "2        8 -0.771589\n",
            "3       12 -0.603007\n",
            "4       14 -0.518716\n",
            "5       18 -0.350133\n",
            "6       22 -0.181550\n",
            "7       24 -0.097259\n",
            "8       27  0.029178\n",
            "9       30  0.155615\n",
            "10      35  0.366343\n",
            "11      40  0.577071\n",
            "12     100  3.105809\n",
            "\n",
            "Outliers:\n",
            "     Values   Z_Score\n",
            "12     100  3.105809\n"
          ]
        }
      ]
    },
    {
      "cell_type": "code",
      "source": [
        "#Feature Engineering\n",
        "df[\"new_features\"]=df[\"feature1\"]/df[\"feature2\"]\n",
        "from sklearn.preprocessing import OneHotEncoder, LabelEncoder\n",
        "df=pd.get_dummies(df, columns=[\"categorical_column\"])\n",
        "le=LabelEncoder()\n",
        "df[\"category_column\"]=le.fit_transform(df[\"category_column\"])\n"
      ],
      "metadata": {
        "id": "1CHidQMZl40c"
      },
      "execution_count": null,
      "outputs": []
    },
    {
      "cell_type": "code",
      "source": [
        "#Feature Scaling\n",
        "#Standardization (mean=0, std dev=1) and Normalization(scale values between 0 and 1)\n",
        "from sklearn.preprocessing import StandardScaler, MinMaxScaler\n",
        "scaler1=StandardScaler()\n",
        "scaler2=MinMaxScaler()\n",
        "df_scaled=scaler1.fit_transform(df)\n",
        "df_normalized=scaler.fit_transform(df)\n"
      ],
      "metadata": {
        "id": "szmz8RQfmt3i"
      },
      "execution_count": null,
      "outputs": []
    },
    {
      "cell_type": "code",
      "source": [
        "#One Hot Encoding\n",
        "import pandas as pd\n",
        "df=pd.DataFrame({'Color': ['Red','Blue','Green','Red','Blue']})\n",
        "\n",
        "#One Hot encoding\n",
        "df_encoded=pd.get_dummies(df, columns=['Color'])\n",
        "print(df_encoded)"
      ],
      "metadata": {
        "colab": {
          "base_uri": "https://localhost:8080/"
        },
        "id": "OzSup_SfZN0j",
        "outputId": "b07f8a20-52e0-4bc7-e44d-d89e92309a7d"
      },
      "execution_count": null,
      "outputs": [
        {
          "output_type": "stream",
          "name": "stdout",
          "text": [
            "   Color_Blue  Color_Green  Color_Red\n",
            "0       False        False       True\n",
            "1        True        False      False\n",
            "2       False         True      False\n",
            "3       False        False       True\n",
            "4        True        False      False\n"
          ]
        }
      ]
    },
    {
      "cell_type": "code",
      "source": [
        "#Label Encoding\n",
        "from sklearn.preprocessing import LabelEncoder\n",
        "import pandas as pd\n",
        "df=pd.DataFrame({'Size': ['Small','Medium','Large','Small','Large']})\n",
        "\n",
        "#Label encoding\n",
        "encoder=LabelEncoder()\n",
        "df['Size_encoded']=encoder.fit_transform(df['Size'])\n",
        "print(df)"
      ],
      "metadata": {
        "colab": {
          "base_uri": "https://localhost:8080/"
        },
        "id": "zlIrl5G1aKVw",
        "outputId": "cd5fce4f-601d-4fde-bb5a-61b7fbcb2136"
      },
      "execution_count": null,
      "outputs": [
        {
          "output_type": "stream",
          "name": "stdout",
          "text": [
            "     Size  Size_encoded\n",
            "0   Small             2\n",
            "1  Medium             1\n",
            "2   Large             0\n",
            "3   Small             2\n",
            "4   Large             0\n"
          ]
        }
      ]
    },
    {
      "cell_type": "code",
      "source": [
        "#OPTIMIZATON(GRADIENT DESCENT)\n",
        "import numpy as np\n",
        "import matplotlib.pyplot as plt\n",
        "\n",
        "#Declare the functions and its derivatives\n",
        "def f(x):\n",
        "  return x**2\n",
        "\n",
        "def gradient(x):\n",
        "  return 2*x\n",
        "\n",
        "#Gradient descent algorithm\n",
        "x=10\n",
        "alpha=0.1\n",
        "iterations=20\n",
        "x_values=[x]\n",
        "\n",
        "for _ in range(iterations):\n",
        "  x=x-alpha*gradient(x)\n",
        "  x_values.append(x)\n",
        "\n",
        "#Plot the function and the descent path\n",
        "x_range=np.linspace(-10,10,100)\n",
        "plt.plot(x_range,f(x_range),label=\"f(x)=x^2\")\n",
        "plt.scatter(x_values,[f(x) for x in x_values], color='red', label=\"Gradient Descent Path\")\n",
        "plt.xlabel(\"x\")\n",
        "plt.ylabel(\"f(x)\")\n",
        "plt.legend()\n",
        "plt.show()"
      ],
      "metadata": {
        "colab": {
          "base_uri": "https://localhost:8080/",
          "height": 449
        },
        "id": "31cIBuV9Ytp8",
        "outputId": "5c1969f0-149a-406e-eb49-061e42798360"
      },
      "execution_count": null,
      "outputs": [
        {
          "output_type": "display_data",
          "data": {
            "text/plain": [
              "<Figure size 640x480 with 1 Axes>"
            ],
            "image/png": "[encoded data removed]"
          },
          "metadata": {}
        }
      ]
    }
  ]
}